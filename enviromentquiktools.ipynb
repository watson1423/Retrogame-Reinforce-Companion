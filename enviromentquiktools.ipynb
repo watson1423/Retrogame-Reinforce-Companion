{
 "metadata": {
  "language_info": {
   "codemirror_mode": {
    "name": "ipython",
    "version": 3
   },
   "file_extension": ".py",
   "mimetype": "text/x-python",
   "name": "python",
   "nbconvert_exporter": "python",
   "pygments_lexer": "ipython3",
   "version": "3.8.8"
  },
  "orig_nbformat": 2,
  "kernelspec": {
   "name": "python388jvsc74a57bd0fb7b7d594cfea5d5acae3b6f3cf6502f72f282b32ef75dfe8cc81717c136a552",
   "display_name": "Python 3.8.8 64-bit"
  },
  "metadata": {
   "interpreter": {
    "hash": "fb7b7d594cfea5d5acae3b6f3cf6502f72f282b32ef75dfe8cc81717c136a552"
   }
  }
 },
 "nbformat": 4,
 "nbformat_minor": 2,
 "cells": [
  {
   "cell_type": "code",
   "execution_count": 18,
   "metadata": {},
   "outputs": [
    {
     "output_type": "stream",
     "name": "stdout",
     "text": [
      "[0, 0, 0, 0, 0, 0, 0, 0, 0, 0, 0, 0, 0, 0, 0]\n[0, 0, 0, 0, 0, 0, 0, 0, 0, 0, 0, 0, 0, 0, 0]\n[0, 0, 0, 0, 0, 0, 0, 0, 0, 0, 0, 0, 0, 0, 0]\n[0, 0, 0, 0, 0, 0, 0, 0, 0, 0, 0, 0, 0, 0, 0]\n[0, 0, 0, 0, 0, 0, 0, 0, 0, 0, 0, 0, 2, 0, 0]\n"
     ]
    },
    {
     "output_type": "execute_result",
     "data": {
      "text/plain": [
       "[0, 0, 0, 0, 0, 0, 0, 0, 0, 0, 0, 0, 2, 0, 0]"
      ]
     },
     "metadata": {},
     "execution_count": 18
    }
   ],
   "source": [
    "import pyxinput\n",
    "\n",
    "def ReadXimp(GamepadIndex) :\n",
    "    MyRead = pyxinput.rController(GamepadIndex)\n",
    "    readmark = ['A','B','X','Y','LEFT_SHOULDER','BtnThumbL','RIGHT_SHOULDER','BtnThumbR','AxisLx','AxisLy','AxisRx','AxisRy','Dpad','BACK','START']\n",
    "    ppressed = [0,0,0,0,0,0,0,0,0,0,0,0,0,0,0]\n",
    "    for press in MyRead.buttons:\n",
    "        i=0\n",
    "        if((press == 'DPAD_UP') or (press == 'DPAD_LEFT') or (press == 'DPAD_DOWN') or (press == 'DPAD_RIGHT')):\n",
    "            if(press == 'DPAD_UP'):\n",
    "                ppressed[12]=1\n",
    "            if(press == 'DPAD_LEFT'):\n",
    "                ppressed[12]=4\n",
    "            if(press == 'DPAD_DOWN'):\n",
    "                ppressed[12]=2\n",
    "            if(press == 'DPAD_RIGHT'):\n",
    "                ppressed[12]=8\n",
    "        for readpress in readmark:\n",
    "            if(press ==  readpress):\n",
    "                ppressed[i] = 1\n",
    "            i+=1\n",
    "    return ppressed\n",
    "for i in range(5):\n",
    "    print(ReadXimp(i))\n",
    "ReadXimp(4)"
   ]
  },
  {
   "cell_type": "code",
   "execution_count": 6,
   "metadata": {},
   "outputs": [
    {
     "output_type": "stream",
     "name": "stdout",
     "text": [
      "5\n"
     ]
    }
   ],
   "source": [
    "import json\n",
    "GameName = \"Crash\"\n",
    "Experience_Path = \"TensorSaves/Experiences/UserExperience/10nodrift.txt\"\n",
    "with open(Experience_Path) as json_file:\n",
    "    data = json.load(json_file)\n",
    "    json_file.close()\n",
    "print(len(data[GameName][\"observation\"]))\n",
    "\n"
   ]
  },
  {
   "cell_type": "code",
   "execution_count": 7,
   "metadata": {},
   "outputs": [
    {
     "output_type": "stream",
     "name": "stdout",
     "text": [
      "0  has valid values False\n1  has valid values False\n2  has valid values False\n3  has valid values False\n4  has valid values False\n"
     ]
    }
   ],
   "source": [
    "for actionlistindex in range(len(data[GameName][\"action\"])):\n",
    "    allnul = True\n",
    "    for actionindex in range(len(data[GameName][\"action\"][actionlistindex])):\n",
    "        if(data[GameName][\"action\"][actionlistindex][actionindex] != [0, 0, 0, 0, 0, 0, 0, 0, 0, 0, 0, 0, 0, 0, 0]):\n",
    "            allnul = False\n",
    "    print(actionlistindex,\" has valid values\", allnul)"
   ]
  },
  {
   "cell_type": "code",
   "execution_count": null,
   "metadata": {},
   "outputs": [],
   "source": []
  },
  {
   "cell_type": "code",
   "execution_count": 2,
   "metadata": {},
   "outputs": [],
   "source": [
    "from tensorflow import keras\n",
    "modela = keras.models.load_model('TensorSaves/KerasModels/MainRaymax/0')\n"
   ]
  },
  {
   "cell_type": "code",
   "execution_count": 4,
   "metadata": {},
   "outputs": [
    {
     "output_type": "stream",
     "name": "stdout",
     "text": [
      "Model: \"sequential_1\"\n_________________________________________________________________\nLayer (type)                 Output Shape              Param #   \n=================================================================\nconv2d_2 (Conv2D)            (None, 50, 35, 25)        2525      \n_________________________________________________________________\nmax_pooling2d_2 (MaxPooling2 (None, 25, 17, 25)        0         \n_________________________________________________________________\nconv2d_3 (Conv2D)            (None, 22, 14, 45)        18045     \n_________________________________________________________________\nmax_pooling2d_3 (MaxPooling2 (None, 7, 4, 45)          0         \n_________________________________________________________________\nflatten_1 (Flatten)          (None, 1260)              0         \n_________________________________________________________________\ndense_6 (Dense)              (None, 200)               252200    \n_________________________________________________________________\ndense_7 (Dense)              (None, 100)               20100     \n_________________________________________________________________\ndense_8 (Dense)              (None, 50)                5050      \n_________________________________________________________________\ndense_9 (Dense)              (None, 25)                1275      \n_________________________________________________________________\ndense_10 (Dense)             (None, 15)                390       \n=================================================================\nTotal params: 299,585\nTrainable params: 299,585\nNon-trainable params: 0\n_________________________________________________________________\n"
     ]
    }
   ],
   "source": [
    "modela.summary()"
   ]
  },
  {
   "cell_type": "code",
   "execution_count": null,
   "metadata": {},
   "outputs": [],
   "source": []
  }
 ]
}